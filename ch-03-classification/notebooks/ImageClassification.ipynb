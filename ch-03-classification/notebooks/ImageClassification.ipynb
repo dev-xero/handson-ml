{
 "cells": [
  {
   "cell_type": "markdown",
   "id": "d01c9c73",
   "metadata": {},
   "source": [
    "### Image Classification on the MNIST Dataset\n",
    "\n",
    "In this chapter, I learn image classification Machine Learning algorithms, and how they work. Before anything, prepare the workspace."
   ]
  },
  {
   "cell_type": "code",
   "execution_count": 20,
   "id": "e55808f4",
   "metadata": {},
   "outputs": [
    {
     "name": "stdout",
     "output_type": "stream",
     "text": [
      "New dataset everytime: False\n",
      "Reusing existing dataset\n",
      "\n",
      "Dataset size: 418.70 MB\n",
      "Target size: 0.53 MB\n",
      "Total size:  419.24 MB\n",
      "\n",
      "Done\n"
     ]
    }
   ],
   "source": [
    "import os\n",
    "import shutil\n",
    "from sklearn.datasets import fetch_openml\n",
    "\n",
    "MB = 1024 * 1024\n",
    "DATA_HOME = \"../datasets\"\n",
    "NEW_DATASET_EVERYTIME = False\n",
    "\n",
    "print(\"New dataset everytime:\", NEW_DATASET_EVERYTIME)\n",
    "\n",
    "if NEW_DATASET_EVERYTIME and os.path.exists(DATA_HOME):\n",
    "    shutil.rmtree(DATA_HOME)\n",
    "    print(\"Dataset directory removed\")\n",
    "\n",
    "    os.makedirs(DATA_HOME)\n",
    "    print(\"Now downloading dataset\")\n",
    "\n",
    "if not NEW_DATASET_EVERYTIME:\n",
    "    print(\"Reusing existing dataset\")\n",
    "\n",
    "MNIST = fetch_openml(\"mnist_784\", as_frame=False, data_home=DATA_HOME)\n",
    "\n",
    "data_size = MNIST.data.nbytes / MB\n",
    "target_size = MNIST.target.nbytes / MB\n",
    "total = data_size + target_size\n",
    "\n",
    "print(f\"\\n{'Dataset size:':12} {data_size:4.2f} MB\")\n",
    "print(f\"{'Target size:':12} {target_size:4.2f} MB\")\n",
    "print(f\"{'Total size:':12} {total:4.2f} MB\\n\")\n",
    "\n",
    "print(\"Done\")"
   ]
  },
  {
   "cell_type": "markdown",
   "id": "f736a920",
   "metadata": {},
   "source": [
    "### Exploration Phase\n",
    "\n",
    "I'm looking at potentially useful information about the features (X) and labels (y), in general what's known as 'exploratory data analysis'."
   ]
  },
  {
   "cell_type": "code",
   "execution_count": 43,
   "id": "00497972",
   "metadata": {},
   "outputs": [
    {
     "name": "stdout",
     "output_type": "stream",
     "text": [
      "Features (X): [[0 0 0 ... 0 0 0]\n",
      " [0 0 0 ... 0 0 0]\n",
      " [0 0 0 ... 0 0 0]\n",
      " ...\n",
      " [0 0 0 ... 0 0 0]\n",
      " [0 0 0 ... 0 0 0]\n",
      " [0 0 0 ... 0 0 0]]\n",
      "Labels (y): ['5' '0' '4' ... '4' '5' '6']\n",
      "\n",
      "Shape (X): (70000, 784)\n",
      "Shape (y): (70000,)\n",
      "\n",
      "Features data (row 1):\n",
      " [  0   0   0   0   0   0   0   0   0   0   0   0   0   0   0   0   0   0\n",
      "   0   0   0   0   0   0   0   0   0   0   0   0   0   0   0   0   0   0\n",
      "   0   0   0   0   0   0   0   0   0   0   0   0   0   0   0   0   0   0\n",
      "   0   0   0   0   0   0   0   0   0   0   0   0   0   0   0   0   0   0\n",
      "   0   0   0   0   0   0   0   0   0   0   0   0   0   0   0   0   0   0\n",
      "   0   0   0   0   0   0   0   0   0   0   0   0   0   0   0   0   0   0\n",
      "   0   0   0   0   0   0   0   0   0   0   0   0   0   0   0   0   0   0\n",
      "   0   0   0   0   0   0   0   0   0   0   0   0   0   0   0   0   0   0\n",
      "   0   0   0   0   0   0   0   0   3  18  18  18 126 136 175  26 166 255\n",
      " 247 127   0   0   0   0   0   0   0   0   0   0   0   0  30  36  94 154\n",
      " 170 253 253 253 253 253 225 172 253 242 195  64   0   0   0   0   0   0\n",
      "   0   0   0   0   0  49 238 253 253 253 253 253 253 253 253 251  93  82\n",
      "  82  56  39   0   0   0   0   0   0   0   0   0   0   0   0  18 219 253\n",
      " 253 253 253 253 198 182 247 241   0   0   0   0   0   0   0   0   0   0\n",
      "   0   0   0   0   0   0   0   0  80 156 107 253 253 205  11   0  43 154\n",
      "   0   0   0   0   0   0   0   0   0   0   0   0   0   0   0   0   0   0\n",
      "   0  14   1 154 253  90   0   0   0   0   0   0   0   0   0   0   0   0\n",
      "   0   0   0   0   0   0   0   0   0   0   0   0   0 139 253 190   2   0\n",
      "   0   0   0   0   0   0   0   0   0   0   0   0   0   0   0   0   0   0\n",
      "   0   0   0   0   0  11 190 253  70   0   0   0   0   0   0   0   0   0\n",
      "   0   0   0   0   0   0   0   0   0   0   0   0   0   0   0   0  35 241\n",
      " 225 160 108   1   0   0   0   0   0   0   0   0   0   0   0   0   0   0\n",
      "   0   0   0   0   0   0   0   0   0  81 240 253 253 119  25   0   0   0\n",
      "   0   0   0   0   0   0   0   0   0   0   0   0   0   0   0   0   0   0\n",
      "   0   0  45 186 253 253 150  27   0   0   0   0   0   0   0   0   0   0\n",
      "   0   0   0   0   0   0   0   0   0   0   0   0   0  16  93 252 253 187\n",
      "   0   0   0   0   0   0   0   0   0   0   0   0   0   0   0   0   0   0\n",
      "   0   0   0   0   0   0   0 249 253 249  64   0   0   0   0   0   0   0\n",
      "   0   0   0   0   0   0   0   0   0   0   0   0   0   0  46 130 183 253\n",
      " 253 207   2   0   0   0   0   0   0   0   0   0   0   0   0   0   0   0\n",
      "   0   0   0   0  39 148 229 253 253 253 250 182   0   0   0   0   0   0\n",
      "   0   0   0   0   0   0   0   0   0   0   0   0  24 114 221 253 253 253\n",
      " 253 201  78   0   0   0   0   0   0   0   0   0   0   0   0   0   0   0\n",
      "   0   0  23  66 213 253 253 253 253 198  81   2   0   0   0   0   0   0\n",
      "   0   0   0   0   0   0   0   0   0   0  18 171 219 253 253 253 253 195\n",
      "  80   9   0   0   0   0   0   0   0   0   0   0   0   0   0   0   0   0\n",
      "  55 172 226 253 253 253 253 244 133  11   0   0   0   0   0   0   0   0\n",
      "   0   0   0   0   0   0   0   0   0   0 136 253 253 253 212 135 132  16\n",
      "   0   0   0   0   0   0   0   0   0   0   0   0   0   0   0   0   0   0\n",
      "   0   0   0   0   0   0   0   0   0   0   0   0   0   0   0   0   0   0\n",
      "   0   0   0   0   0   0   0   0   0   0   0   0   0   0   0   0   0   0\n",
      "   0   0   0   0   0   0   0   0   0   0   0   0   0   0   0   0   0   0\n",
      "   0   0   0   0   0   0   0   0   0   0   0   0   0   0   0   0   0   0\n",
      "   0   0   0   0   0   0   0   0   0   0]\n",
      "\n",
      "Row 1 size: 784\n"
     ]
    }
   ],
   "source": [
    "features, labels = MNIST.data, MNIST.target\n",
    "\n",
    "print(\"Features (X):\", features)\n",
    "print(\"Labels (y):\", labels)\n",
    "\n",
    "print(\"\\nShape (X):\", features.shape)\n",
    "print(\"Shape (y):\", labels.shape)\n",
    "\n",
    "print(\"\\nFeatures data (row 1):\\n\", features[0, : ])\n",
    "print(\"\\nRow 1 size:\", features[0].size)"
   ]
  },
  {
   "cell_type": "markdown",
   "id": "694a96b3",
   "metadata": {},
   "source": [
    "The dataset has 70,000 images each with 784 features."
   ]
  },
  {
   "cell_type": "markdown",
   "id": "d1702b75",
   "metadata": {},
   "source": [
    "#### Plotting images\n",
    "\n",
    "Since the images are supposed to be 28x28 pixels, and the 784 pixels represent the color intensity of the images at each pixel, we can\n",
    "print the digits using Matplotlib. All we need to do is reshape the data into a 28x28 matrix and color the points appropriately."
   ]
  },
  {
   "cell_type": "code",
   "execution_count": 46,
   "id": "a26684b6",
   "metadata": {},
   "outputs": [
    {
     "name": "stdout",
     "output_type": "stream",
     "text": [
      "Label at this index: 4\n"
     ]
    },
    {
     "data": {
      "image/png": "[encoded data removed]",
      "text/plain": [
       "<Figure size 640x480 with 1 Axes>"
      ]
     },
     "metadata": {},
     "output_type": "display_data"
    }
   ],
   "source": [
    "from matplotlib import pyplot as plt\n",
    "import numpy as np\n",
    "\n",
    "def plot_image(image_data):\n",
    "    image = np.reshape(image_data, (28, 28))\n",
    "    plt.imshow(image, cmap=\"binary\")\n",
    "    # plt.axis(\"off\")\n",
    "\n",
    "index = 2\n",
    "first_image_data = features[index]\n",
    "print(\"Label at this index:\", labels[index])\n",
    "plot_image(first_image_data)"
   ]
  },
  {
   "cell_type": "markdown",
   "id": "f4ca0cdd",
   "metadata": {},
   "source": [
    "### Split Test and Train Datasets\n",
    "\n",
    "I will use the first 60,000 images for training and the remaining 10,000 for testing and evaluating the model's final performance."
   ]
  },
  {
   "cell_type": "code",
   "execution_count": 57,
   "id": "82ba5254",
   "metadata": {},
   "outputs": [
    {
     "name": "stdout",
     "output_type": "stream",
     "text": [
      "Features (train) size: 60000\n",
      "Features (test) size: 10000\n",
      "\n",
      "Labels (train) size: 60000\n",
      "Labels (test) size: 10000\n"
     ]
    }
   ],
   "source": [
    "SPLIT = 60_000\n",
    "\n",
    "features_train, features_test = features[:SPLIT], features[SPLIT:]\n",
    "labels_train, labels_test = labels[:SPLIT], labels[SPLIT:]\n",
    "\n",
    "print(\"Features (train) size:\", features_train.shape[0])\n",
    "print(\"Features (test) size:\", features_test.shape[0])\n",
    "\n",
    "print(\"\\nLabels (train) size:\", labels_train.shape[0])\n",
    "print(\"Labels (test) size:\", labels_test.shape[0])"
   ]
  }
 ],
 "metadata": {
  "kernelspec": {
   "display_name": ".venv",
   "language": "python",
   "name": "python3"
  },
  "language_info": {
   "codemirror_mode": {
    "name": "ipython",
    "version": 3
   },
   "file_extension": ".py",
   "mimetype": "text/x-python",
   "name": "python",
   "nbconvert_exporter": "python",
   "pygments_lexer": "ipython3",
   "version": "3.12.7"
  }
 },
 "nbformat": 4,
 "nbformat_minor": 5
}
