{
 "cells": [
  {
   "cell_type": "markdown",
   "id": "d01c9c73",
   "metadata": {},
   "source": [
    "### Image Classification on the MNIST Dataset\n",
    "\n",
    "In this chapter, I learn image classification Machine Learning algorithms, and how they work. Before anything, prepare the workspace."
   ]
  },
  {
   "cell_type": "code",
   "execution_count": 20,
   "id": "e55808f4",
   "metadata": {},
   "outputs": [
    {
     "name": "stdout",
     "output_type": "stream",
     "text": [
      "New dataset everytime: False\n",
      "Reusing existing dataset\n",
      "\n",
      "Dataset size: 418.70 MB\n",
      "Target size: 0.53 MB\n",
      "Total size:  419.24 MB\n",
      "\n",
      "Done\n"
     ]
    }
   ],
   "source": [
    "import os\n",
    "import shutil\n",
    "from sklearn.datasets import fetch_openml\n",
    "\n",
    "MB = 1024 * 1024\n",
    "DATA_HOME = \"../datasets\"\n",
    "NEW_DATASET_EVERYTIME = False\n",
    "\n",
    "print(\"New dataset everytime:\", NEW_DATASET_EVERYTIME)\n",
    "\n",
    "if NEW_DATASET_EVERYTIME and os.path.exists(DATA_HOME):\n",
    "    shutil.rmtree(DATA_HOME)\n",
    "    print(\"Dataset directory removed\")\n",
    "\n",
    "    os.makedirs(DATA_HOME)\n",
    "    print(\"Now downloading dataset\")\n",
    "\n",
    "if not NEW_DATASET_EVERYTIME:\n",
    "    print(\"Reusing existing dataset\")\n",
    "\n",
    "MNIST = fetch_openml(\"mnist_784\", as_frame=False, data_home=DATA_HOME)\n",
    "\n",
    "data_size = MNIST.data.nbytes / MB\n",
    "target_size = MNIST.target.nbytes / MB\n",
    "total = data_size + target_size\n",
    "\n",
    "print(f\"\\n{'Dataset size:':12} {data_size:4.2f} MB\")\n",
    "print(f\"{'Target size:':12} {target_size:4.2f} MB\")\n",
    "print(f\"{'Total size:':12} {total:4.2f} MB\\n\")\n",
    "\n",
    "print(\"Done\")"
   ]
  }
 ],
 "metadata": {
  "kernelspec": {
   "display_name": ".venv",
   "language": "python",
   "name": "python3"
  },
  "language_info": {
   "codemirror_mode": {
    "name": "ipython",
    "version": 3
   },
   "file_extension": ".py",
   "mimetype": "text/x-python",
   "name": "python",
   "nbconvert_exporter": "python",
   "pygments_lexer": "ipython3",
   "version": "3.12.7"
  }
 },
 "nbformat": 4,
 "nbformat_minor": 5
}
