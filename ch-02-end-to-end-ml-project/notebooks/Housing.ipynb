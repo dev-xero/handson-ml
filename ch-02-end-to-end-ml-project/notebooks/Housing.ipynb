{
 "cells": [
  {
   "cell_type": "code",
   "id": "a70ede40-4008-4b37-97da-db3d1ef00dea",
   "metadata": {},
   "source": [
    "import sys\n",
    "\n",
    "from sklearn.compose import make_column_selector, make_column_transformer, ColumnTransformer\n",
    "\n",
    "sys.path.append('../')"
   ],
   "outputs": [],
   "execution_count": null
  },
  {
   "cell_type": "code",
   "id": "72945b65-a51e-4c8a-9212-145db1a488e9",
   "metadata": {},
   "source": [
    "from utils.data import download_housing_data\n",
    "\n",
    "BASE_URL = \"https://raw.githubusercontent.com/ageron/handson-ml2/master/\"\n",
    "HOUSING_URL = BASE_URL + \"datasets/housing/housing.tgz\"\n",
    "\n",
    "download_housing_data(housing_url=HOUSING_URL)"
   ],
   "outputs": [],
   "execution_count": null
  },
  {
   "cell_type": "code",
   "id": "9eb63568",
   "metadata": {},
   "source": [
    "from utils.data import load_housing_data\n",
    "\n",
    "housing = load_housing_data()\n",
    "housing.head()"
   ],
   "outputs": [],
   "execution_count": null
  },
  {
   "cell_type": "code",
   "id": "658b72b1",
   "metadata": {},
   "source": [
    "housing.info()"
   ],
   "outputs": [],
   "execution_count": null
  },
  {
   "cell_type": "code",
   "id": "d265a766",
   "metadata": {},
   "source": [
    "housing[\"ocean_proximity\"].value_counts()"
   ],
   "outputs": [],
   "execution_count": null
  },
  {
   "cell_type": "code",
   "id": "826f48b0",
   "metadata": {},
   "source": [
    "housing.describe()"
   ],
   "outputs": [],
   "execution_count": null
  },
  {
   "cell_type": "code",
   "id": "69a942bf",
   "metadata": {},
   "source": [
    "import matplotlib.pyplot as plt\n",
    "\n",
    "housing.hist(bins=50, figsize=(20, 15))\n",
    "plt.show()"
   ],
   "outputs": [],
   "execution_count": null
  },
  {
   "cell_type": "markdown",
   "id": "9eaa9522",
   "metadata": {},
   "source": [
    "### Split Training and Test Datasets"
   ]
  },
  {
   "cell_type": "code",
   "id": "876d5732",
   "metadata": {},
   "source": [
    "from utils.data import split_train_test\n",
    "from utils.data import split_train_test_by_id\n",
    "\n",
    "# Using 20% of the dataset for testing\n",
    "train_set, test_set = split_train_test(housing, 0.2)\n",
    "print(\"train set:\", len(train_set))\n",
    "print(\"test set:\", len(test_set))\n",
    "\n",
    "housing_with_id = housing.reset_index()\n",
    "train_set, test_set = split_train_test_by_id(housing_with_id, 0.2, \"index\")\n",
    "print(f\"new train set ({len(train_set)}):\\n\", train_set.head())"
   ],
   "outputs": [],
   "execution_count": null
  },
  {
   "cell_type": "markdown",
   "id": "3f512051",
   "metadata": {},
   "source": [
    "### Classify Income Categories"
   ]
  },
  {
   "cell_type": "code",
   "id": "44196518",
   "metadata": {},
   "source": [
    "import pandas as pd\n",
    "import numpy as np\n",
    "\n",
    "housing[\"income_cat\"] = pd.cut(housing[\"median_income\"], bins=[0., 1.5, 3.0, 4.5, 6., np.inf], labels=[1, 2, 3, 4, 5])\n",
    "\n",
    "housing[\"income_cat\"].value_counts().sort_index().plot.bar(rot=0, grid=True)\n",
    "plt.xlabel(\"Income category\")\n",
    "plt.ylabel(\"Number of districts\")\n",
    "plt.show()"
   ],
   "outputs": [],
   "execution_count": null
  },
  {
   "cell_type": "markdown",
   "id": "bb23bdaa",
   "metadata": {},
   "source": [
    "### Stratified Sampling"
   ]
  },
  {
   "cell_type": "code",
   "id": "9e7ff6cc",
   "metadata": {},
   "source": [
    "from sklearn.model_selection import StratifiedShuffleSplit\n",
    "\n",
    "splitter = StratifiedShuffleSplit(n_splits=1, test_size=0.2, random_state=42)\n",
    "strat_splits = []\n",
    "\n",
    "for train_index, test_index in splitter.split(housing, housing[\"income_cat\"]):\n",
    "    strat_train_set_n = housing.iloc[train_index]\n",
    "    strat_test_set_n = housing.iloc[test_index]\n",
    "    strat_splits.append([strat_train_set_n, strat_test_set_n])\n"
   ],
   "outputs": [],
   "execution_count": null
  },
  {
   "cell_type": "code",
   "id": "ead0139d",
   "metadata": {},
   "source": [
    "from sklearn.model_selection import train_test_split\n",
    "\n",
    "# Stratified sampling from SK, test size is 20%\n",
    "strat_train_set, strat_test_set = train_test_split(\n",
    "    housing,\n",
    "    test_size=0.2,\n",
    "    stratify=housing[\"income_cat\"],\n",
    "    random_state=42\n",
    ")"
   ],
   "outputs": [],
   "execution_count": null
  },
  {
   "cell_type": "code",
   "id": "6c6ce4da",
   "metadata": {},
   "source": [
    "strat_test_set[\"income_cat\"].value_counts() / len(strat_test_set)"
   ],
   "outputs": [],
   "execution_count": null
  },
  {
   "cell_type": "code",
   "id": "539558f7",
   "metadata": {},
   "source": [
    "for dataset in (strat_train_set, strat_test_set):\n",
    "    dataset.drop(\"income_cat\", axis=1, inplace=True)"
   ],
   "outputs": [],
   "execution_count": null
  },
  {
   "cell_type": "markdown",
   "id": "28c8d76c",
   "metadata": {},
   "source": "### Data Visualization"
  },
  {
   "cell_type": "code",
   "id": "346fced7",
   "metadata": {},
   "source": [
    "housing = strat_train_set.copy()\n",
    "housing.plot(kind=\"scatter\", x=\"longitude\", y=\"latitude\", alpha=0.1, grid=True)"
   ],
   "outputs": [],
   "execution_count": null
  },
  {
   "cell_type": "code",
   "id": "dcb02132",
   "metadata": {},
   "source": [
    "housing.plot(kind=\"scatter\", x=\"longitude\", y=\"latitude\", alpha=0.4, s=housing[\"population\"] / 100, label=\"population\",\n",
    "             figsize=(10, 7), c=\"median_house_value\", cmap=plt.get_cmap(\"jet\"), colorbar=True)\n",
    "\n",
    "plt.legend()"
   ],
   "outputs": [],
   "execution_count": null
  },
  {
   "cell_type": "markdown",
   "id": "a2a21294",
   "metadata": {},
   "source": [
    "### Correlations"
   ]
  },
  {
   "cell_type": "code",
   "id": "71c1bdbd",
   "metadata": {},
   "source": [
    "corr_matrix = housing.corr(numeric_only=True)\n",
    "corr_matrix[\"median_house_value\"].sort_values(ascending=False)"
   ],
   "outputs": [],
   "execution_count": null
  },
  {
   "cell_type": "code",
   "id": "4f0a7ed0",
   "metadata": {},
   "source": [
    "from pandas.plotting import scatter_matrix\n",
    "\n",
    "attributes = [\"median_house_value\", \"median_income\", \"total_rooms\", \"housing_median_age\"]\n",
    "\n",
    "scatter_matrix(housing[attributes], figsize=(12, 8))\n",
    "plt.show()"
   ],
   "outputs": [],
   "execution_count": null
  },
  {
   "cell_type": "code",
   "id": "06434d04",
   "metadata": {},
   "source": [
    "housing.plot(kind=\"scatter\", x=\"median_income\", y=\"median_house_value\", alpha=0.1, grid=True)"
   ],
   "outputs": [],
   "execution_count": null
  },
  {
   "cell_type": "code",
   "id": "b70d4fca",
   "metadata": {},
   "source": [
    "housing[\"rooms_per_house\"] = housing[\"total_rooms\"] / housing[\"households\"]\n",
    "housing[\"bedrooms_ratio\"] = housing[\"total_bedrooms\"] / housing[\"total_rooms\"]\n",
    "housing[\"people_per_house\"] = housing[\"population\"] / housing[\"households\"]"
   ],
   "outputs": [],
   "execution_count": null
  },
  {
   "cell_type": "code",
   "id": "8300871f",
   "metadata": {},
   "source": [
    "corr_matrix = housing.corr(numeric_only=True)\n",
    "corr_matrix[\"median_house_value\"].sort_values(ascending=False)"
   ],
   "outputs": [],
   "execution_count": null
  },
  {
   "cell_type": "code",
   "id": "83d0806a",
   "metadata": {},
   "source": [
    "housing = strat_train_set.drop(\"median_house_value\", axis=1)\n",
    "housing_labels = strat_train_set[\"median_house_value\"].copy()"
   ],
   "outputs": [],
   "execution_count": null
  },
  {
   "cell_type": "code",
   "id": "82dee59d-ad32-4d78-b352-0f163d2fdb3c",
   "metadata": {
    "scrolled": true
   },
   "source": [
    "from sklearn.impute import SimpleImputer\n",
    "\n",
    "imputer = SimpleImputer(strategy=\"median\")\n",
    "\n",
    "housing_num = housing.select_dtypes(include=[np.number])\n",
    "\n",
    "imputer.fit(housing_num)"
   ],
   "outputs": [],
   "execution_count": null
  },
  {
   "cell_type": "code",
   "id": "efd649bc-bf6d-4e46-ba54-76ffe858c442",
   "metadata": {},
   "source": [
    "imputer.statistics_"
   ],
   "outputs": [],
   "execution_count": null
  },
  {
   "cell_type": "code",
   "id": "610086d9-1200-4fcf-bb23-d584d687bceb",
   "metadata": {},
   "source": [
    "housing_num.median().values"
   ],
   "outputs": [],
   "execution_count": null
  },
  {
   "cell_type": "code",
   "id": "b80eb30a-e5c0-4fce-997a-8752b14d1d42",
   "metadata": {},
   "source": [
    "X = imputer.transform(housing_num)"
   ],
   "outputs": [],
   "execution_count": null
  },
  {
   "cell_type": "code",
   "id": "6b1c90d5-3088-465b-9249-0bf26756f611",
   "metadata": {},
   "source": [
    "housing_cat = housing[[\"ocean_proximity\"]]\n",
    "housing_cat.head(8)"
   ],
   "outputs": [],
   "execution_count": null
  },
  {
   "cell_type": "code",
   "id": "4dcce4b2-6812-464a-b330-0c2f908015e5",
   "metadata": {},
   "source": [
    "from sklearn.preprocessing import OrdinalEncoder, StandardScaler\n",
    "\n",
    "ordinal_encoder = OrdinalEncoder()\n",
    "housing_cat_encoded = ordinal_encoder.fit_transform(housing_cat)\n",
    "\n",
    "housing_cat_encoded[:8]"
   ],
   "outputs": [],
   "execution_count": null
  },
  {
   "cell_type": "code",
   "id": "c416e975-8ae4-435d-b700-43094fcbf2f2",
   "metadata": {},
   "source": [
    "ordinal_encoder.categories_"
   ],
   "outputs": [],
   "execution_count": null
  },
  {
   "cell_type": "code",
   "id": "9ac52c39-64f0-451b-9de5-1d5286e3a27f",
   "metadata": {},
   "source": [
    "from sklearn.preprocessing import OneHotEncoder\n",
    "\n",
    "cat_encoder = OneHotEncoder()\n",
    "housing_cat_1hot = cat_encoder.fit_transform(housing_cat)\n",
    "\n",
    "housing_cat_1hot"
   ],
   "outputs": [],
   "execution_count": null
  },
  {
   "cell_type": "code",
   "id": "9e0ee018-bf03-4fbb-ae79-1570754e358e",
   "metadata": {},
   "source": [
    "cat_encoder.categories_"
   ],
   "outputs": [],
   "execution_count": null
  },
  {
   "cell_type": "code",
   "id": "73831828-597c-4254-8554-1d8615892e77",
   "metadata": {},
   "source": "# Transformation Pipelines",
   "outputs": [],
   "execution_count": null
  },
  {
   "metadata": {},
   "cell_type": "code",
   "source": [
    "from sklearn.pipeline import make_pipeline\n",
    "from sklearn.preprocessing import StandardScaler\n",
    "\n",
    "num_pipeline = make_pipeline(SimpleImputer(strategy=\"median\"), StandardScaler())"
   ],
   "id": "1ba6f2708c4908e9",
   "outputs": [],
   "execution_count": null
  },
  {
   "metadata": {},
   "cell_type": "code",
   "source": [
    "from sklearn import set_config\n",
    "\n",
    "set_config(display=\"diagram\")\n"
   ],
   "id": "3c519171344bef2f",
   "outputs": [],
   "execution_count": null
  },
  {
   "metadata": {},
   "cell_type": "code",
   "source": [
    "housing_num_prepared = num_pipeline.fit_transform(housing_num)\n",
    "housing_num_prepared[:2].round(2)"
   ],
   "id": "d81e7188ed07bc63",
   "outputs": [],
   "execution_count": null
  },
  {
   "metadata": {},
   "cell_type": "markdown",
   "source": "## Preprocessing",
   "id": "73df69c39c7b648c"
  },
  {
   "metadata": {},
   "cell_type": "code",
   "source": [
    "cat_pipeline = make_pipeline(\n",
    "    SimpleImputer(strategy=\"most_frequent\"),\n",
    "    OneHotEncoder(handle_unknown=\"ignore\")\n",
    ")"
   ],
   "id": "9e59d320b3fb4d2a",
   "outputs": [],
   "execution_count": null
  },
  {
   "metadata": {},
   "cell_type": "code",
   "source": [
    "from sklearn.compose import make_column_selector, make_column_transformer\n",
    "\n",
    "preprocessing = make_column_transformer(\n",
    "    (num_pipeline, make_column_selector(dtype_include=np.number)),\n",
    "    (cat_pipeline, make_column_selector(dtype_include=object)),\n",
    ")"
   ],
   "id": "ddb2c97fe4f8aebf",
   "outputs": [],
   "execution_count": null
  },
  {
   "metadata": {},
   "cell_type": "markdown",
   "source": "## Experimentation Complete: We'll write some scripts to apply the preprocessing",
   "id": "cf64ffcbc8a6eddc"
  },
  {
   "metadata": {
    "ExecuteTime": {
     "end_time": "2025-09-29T22:26:08.223542Z",
     "start_time": "2025-09-29T22:26:07.881099Z"
    }
   },
   "cell_type": "code",
   "source": [
    "from sklearn.metrics.pairwise import rbf_kernel\n",
    "from sklearn.cluster import KMeans\n",
    "from sklearn.base import BaseEstimator, TransformerMixin\n",
    "\n",
    "\n",
    "class ClusterSimilarity(BaseEstimator, TransformerMixin):\n",
    "    def __init__(self, n_clusters=10, gamma=1.0, random_state=None):\n",
    "        self.n_clusters = n_clusters\n",
    "        self.gamma = gamma\n",
    "        self.random_state = random_state\n",
    "\n",
    "    def fit(self, X, y=None, sample_weight=None):\n",
    "        self.kmeans_ = KMeans(self.n_clusters, n_init=10,\n",
    "                              random_state=self.random_state)\n",
    "        self.kmeans_.fit(X, sample_weight=sample_weight)\n",
    "        return self\n",
    "\n",
    "    def transform(self, X):\n",
    "        return rbf_kernel(X, self.kmeans_.cluster_centers_, gamma=self.gamma)\n",
    "\n",
    "    def get_feature_names_out(self, names=None):\n",
    "        return [f\"Cluster {i} similarity\" for i in range(self.n_clusters)]"
   ],
   "id": "6972c7834309ee5d",
   "outputs": [],
   "execution_count": 38
  },
  {
   "metadata": {
    "ExecuteTime": {
     "end_time": "2025-09-29T22:28:36.459772Z",
     "start_time": "2025-09-29T22:28:35.383366Z"
    }
   },
   "cell_type": "code",
   "source": [
    "from sklearn.preprocessing import FunctionTransformer\n",
    "from sklearn.compose import ColumnTransformer\n",
    "\n",
    "\n",
    "def column_ratio(X):\n",
    "    return X[:, [0]] / X[:, [1]]\n",
    "\n",
    "\n",
    "def ratio_name(function_transformer, feature_names_in):\n",
    "    return [\"ratio\"]\n",
    "\n",
    "\n",
    "def ratio_pipeline():\n",
    "    return make_pipeline(\n",
    "        SimpleImputer(strategy=\"median\"),\n",
    "        FunctionTransformer(column_ratio, feature_names_out=ratio_name),\n",
    "        StandardScaler(),\n",
    "    )\n",
    "\n",
    "\n",
    "log_pipeline = make_pipeline(\n",
    "    SimpleImputer(strategy=\"median\"),\n",
    "    FunctionTransformer(np.log, feature_names_out=\"one-to-one\"),\n",
    "    StandardScaler()\n",
    ")\n",
    "\n",
    "cluster_siml = ClusterSimilarity(n_clusters=10, gamma=1., random_state=42)\n",
    "default_num_pipeline = make_pipeline(\n",
    "    SimpleImputer(strategy=\"median\"),\n",
    "    StandardScaler()\n",
    ")\n",
    "\n",
    "preprocessing = ColumnTransformer(\n",
    "    [\n",
    "        (\"bedrooms\", ratio_pipeline(), [\"total_bedrooms\", \"total_rooms\"]),\n",
    "        (\"rooms_per_house\", ratio_pipeline(), [\"total_rooms\", \"households\"]),\n",
    "        (\"people_per_house\", ratio_pipeline(), [\"population\", \"households\"]),\n",
    "        (\"log\", log_pipeline, [\"total_bedrooms\", \"total_rooms\", \"population\", \"households\", \"median_income\"]),\n",
    "        (\"geo\", cluster_siml, [\"latitude\", \"longitude\"]),\n",
    "        (\"cat\", cat_pipeline, make_column_selector(dtype_include=object))\n",
    "    ],\n",
    "    remainder=default_num_pipeline\n",
    ")\n",
    "\n",
    "housing_prepared = preprocessing.fit_transform(housing)\n",
    "housing_prepared.shape"
   ],
   "id": "a8a99436c143006e",
   "outputs": [
    {
     "data": {
      "text/plain": [
       "(16512, 24)"
      ]
     },
     "execution_count": 43,
     "metadata": {},
     "output_type": "execute_result"
    }
   ],
   "execution_count": 43
  },
  {
   "metadata": {
    "ExecuteTime": {
     "end_time": "2025-09-29T22:28:51.391808Z",
     "start_time": "2025-09-29T22:28:51.384427Z"
    }
   },
   "cell_type": "code",
   "source": "preprocessing.get_feature_names_out()",
   "id": "3f6593f67d394daf",
   "outputs": [
    {
     "data": {
      "text/plain": [
       "array(['bedrooms__ratio', 'rooms_per_house__ratio',\n",
       "       'people_per_house__ratio', 'log__total_bedrooms',\n",
       "       'log__total_rooms', 'log__population', 'log__households',\n",
       "       'log__median_income', 'geo__Cluster 0 similarity',\n",
       "       'geo__Cluster 1 similarity', 'geo__Cluster 2 similarity',\n",
       "       'geo__Cluster 3 similarity', 'geo__Cluster 4 similarity',\n",
       "       'geo__Cluster 5 similarity', 'geo__Cluster 6 similarity',\n",
       "       'geo__Cluster 7 similarity', 'geo__Cluster 8 similarity',\n",
       "       'geo__Cluster 9 similarity', 'cat__ocean_proximity_<1H OCEAN',\n",
       "       'cat__ocean_proximity_INLAND', 'cat__ocean_proximity_ISLAND',\n",
       "       'cat__ocean_proximity_NEAR BAY', 'cat__ocean_proximity_NEAR OCEAN',\n",
       "       'remainder__housing_median_age'], dtype=object)"
      ]
     },
     "execution_count": 44,
     "metadata": {},
     "output_type": "execute_result"
    }
   ],
   "execution_count": 44
  }
 ],
 "metadata": {
  "kernelspec": {
   "display_name": "Python 3 (ipykernel)",
   "language": "python",
   "name": "python3"
  },
  "language_info": {
   "codemirror_mode": {
    "name": "ipython",
    "version": 3
   },
   "file_extension": ".py",
   "mimetype": "text/x-python",
   "name": "python",
   "nbconvert_exporter": "python",
   "pygments_lexer": "ipython3",
   "version": "3.12.7"
  }
 },
 "nbformat": 4,
 "nbformat_minor": 5
}
